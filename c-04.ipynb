{
 "cells": [
  {
   "cell_type": "code",
   "execution_count": 8,
   "metadata": {},
   "outputs": [
    {
     "name": "stdout",
     "output_type": "stream",
     "text": [
      "(1, 2, 3)\n"
     ]
    }
   ],
   "source": [
    "class Point3D:\n",
    "    def __init__(self, x,y,z):\n",
    "        self.x = x\n",
    "        self.y = y\n",
    "        self.z = z\n",
    "\n",
    "    def my_point(self):\n",
    "        return self.x, self.y,self.z\n",
    "p1 = Point3D(1,2,3)\n",
    "print(p1.my_point())\n"
   ]
  },
  {
   "cell_type": "code",
   "execution_count": 12,
   "metadata": {},
   "outputs": [
    {
     "name": "stdout",
     "output_type": "stream",
     "text": [
      "12\n",
      "14\n"
     ]
    }
   ],
   "source": [
    "class Rectangle:\n",
    "    def __init__(self, lenght, width):\n",
    "        self.lenght = lenght\n",
    "        self.width = width\n",
    "\n",
    "    def area(self):\n",
    "        return (self.lenght * self.width)\n",
    "    \n",
    "    def perimeter(self):\n",
    "        return(2 * (self.lenght + self.width))\n",
    "\n",
    "my_rectangle = Rectangle(4,3)\n",
    "print(my_rectangle.area())\n",
    "print(my_rectangle.perimeter())"
   ]
  },
  {
   "cell_type": "code",
   "execution_count": null,
   "metadata": {},
   "outputs": [],
   "source": []
  },
  {
   "cell_type": "code",
   "execution_count": 37,
   "metadata": {},
   "outputs": [
    {
     "name": "stdout",
     "output_type": "stream",
     "text": [
      "Blue\n",
      "5200\n",
      "Battery Level: 46%\n"
     ]
    }
   ],
   "source": [
    "class Car:\n",
    "    def __init__(self,color,mileage):\n",
    "        self.color = color\n",
    "        self.mileage = mileage\n",
    "    def display_attributes(self):\n",
    "        print(self.color,self.mileage)\n",
    "    def drive(self,miles):\n",
    "        self.mileage =+ miles\n",
    "class ElectricCar(Car):\n",
    "    def __init__(self, color, mileage):\n",
    "        super().__init__(color, mileage)\n",
    "        self.battery_level = 100 # 100 means 100 per cent\n",
    "    def charge(self,battery_level,miles):\n",
    "        self.battery_level -= miles \n",
    "    def drive(self,miles):\n",
    "        self.mileage =+ miles  \n",
    "\n",
    "my_car = Car('Blue',5200) #It s a blue car with 5200 mileage\n",
    "print(my_car.color) # prints car color\n",
    "print(my_car.mileage) # prints car mileage\n",
    "myModel3 = ElectricCar(\"Blue\",10)\n",
    "\n",
    "myModel3.charge(100,54)  # 100% car battery that did 54 miles\n",
    "print(f\"Battery Level: {myModel3.battery_level}%\")  \n"
   ]
  },
  {
   "cell_type": "code",
   "execution_count": null,
   "metadata": {},
   "outputs": [
    {
     "name": "stdout",
     "output_type": "stream",
     "text": [
      "Blue\n",
      "5200\n",
      "Battery Level: 46%\n"
     ]
    }
   ],
   "source": [
    "class Car:\n",
    "    def __init__(self,color,mileage):\n",
    "        self.color = color\n",
    "        self.mileage = mileage\n",
    "    def display_attributes(self):\n",
    "        print(self.color,self.mileage)\n",
    "    def drive(self,miles):\n",
    "        self.mileage =+ miles\n",
    "class ElectricCar(Car):\n",
    "    def __init__(self, color, mileage):\n",
    "        super().__init__(color, mileage)\n",
    "        self.battery_level = 100 # 100 means 100 per cent\n",
    "    def charge(self,battery_level,miles):\n",
    "        self.battery_level -= miles \n",
    "    def drive(self,miles):\n",
    "        self.mileage =+ miles  \n",
    "\n",
    "my_car = Car('Blue',5200) #It s a blue car with 5200 mileage\n",
    "print(my_car.color) # prints car color\n",
    "print(my_car.mileage) # prints car mileage\n",
    "myModel3 = ElectricCar(\"Blue\",10)\n",
    "\n",
    "myModel3.charge(100,54)  # 100% car battery that did 54 miles\n",
    "print(f\"Battery Level: {myModel3.battery_level}%\")  \n"
   ]
  },
  {
   "cell_type": "code",
   "execution_count": null,
   "metadata": {},
   "outputs": [
    {
     "name": "stdout",
     "output_type": "stream",
     "text": [
      "Blue\n",
      "5200\n",
      "Battery Level: 46%\n"
     ]
    }
   ],
   "source": [
    "class Car:\n",
    "    def __init__(self,color,mileage):\n",
    "        self.color = color\n",
    "        self.mileage = mileage\n",
    "    def display_attributes(self):\n",
    "        print(self.color,self.mileage)\n",
    "    def drive(self,miles):\n",
    "        self.mileage =+ miles\n",
    "class ElectricCar(Car):\n",
    "    def __init__(self, color, mileage):\n",
    "        super().__init__(color, mileage)\n",
    "        self.battery_level = 100 # 100 means 100 per cent\n",
    "    def charge(self,battery_level,miles):\n",
    "        self.battery_level -= miles \n",
    "    def drive(self,miles):\n",
    "        self.mileage =+ miles  \n",
    "\n",
    "my_car = Car('Blue',5200) #It s a blue car with 5200 mileage\n",
    "print(my_car.color) # prints car color\n",
    "print(my_car.mileage) # prints car mileage\n",
    "myModel3 = ElectricCar(\"Blue\",10)\n",
    "\n",
    "myModel3.charge(100,54)  # 100% car battery that did 54 miles\n",
    "print(f\"Battery Level: {myModel3.battery_level}%\")  \n"
   ]
  }
 ],
 "metadata": {
  "kernelspec": {
   "display_name": "Python 3",
   "language": "python",
   "name": "python3"
  },
  "language_info": {
   "codemirror_mode": {
    "name": "ipython",
    "version": 3
   },
   "file_extension": ".py",
   "mimetype": "text/x-python",
   "name": "python",
   "nbconvert_exporter": "python",
   "pygments_lexer": "ipython3",
   "version": "3.10.12"
  },
  "orig_nbformat": 4
 },
 "nbformat": 4,
 "nbformat_minor": 2
}
